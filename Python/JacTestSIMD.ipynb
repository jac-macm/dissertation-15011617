{
 "cells": [
  {
   "cell_type": "markdown",
   "metadata": {},
   "source": [
    "**Import pandas, numpy, matplotlib,and seaborn. Then set %matplotlib inline"
   ]
  },
  {
   "cell_type": "code",
   "execution_count": 1,
   "metadata": {},
   "outputs": [],
   "source": [
    "import pandas as pd\n",
    "import numpy as np"
   ]
  },
  {
   "cell_type": "code",
   "execution_count": 2,
   "metadata": {},
   "outputs": [],
   "source": [
    "import matplotlib.pyplot as plt\n",
    "import seaborn as sns"
   ]
  },
  {
   "cell_type": "code",
   "execution_count": 3,
   "metadata": {},
   "outputs": [],
   "source": [
    "%matplotlib inline"
   ]
  },
  {
   "cell_type": "markdown",
   "metadata": {},
   "source": [
    "**Read in the SIMD_2014 csv file as a DataFrame called SIMD2014"
   ]
  },
  {
   "cell_type": "code",
   "execution_count": 4,
   "metadata": {},
   "outputs": [],
   "source": [
    "SIMD2014 = pd.read_csv('SIMD_2014.csv')"
   ]
  },
  {
   "cell_type": "markdown",
   "metadata": {},
   "source": [
    "**Check the head of SIMD2014, plus the info() and describe() methods"
   ]
  },
  {
   "cell_type": "code",
   "execution_count": 5,
   "metadata": {},
   "outputs": [
    {
     "data": {
      "text/html": [
       "<div>\n",
       "<style scoped>\n",
       "    .dataframe tbody tr th:only-of-type {\n",
       "        vertical-align: middle;\n",
       "    }\n",
       "\n",
       "    .dataframe tbody tr th {\n",
       "        vertical-align: top;\n",
       "    }\n",
       "\n",
       "    .dataframe thead th {\n",
       "        text-align: right;\n",
       "    }\n",
       "</style>\n",
       "<table border=\"1\" class=\"dataframe\">\n",
       "  <thead>\n",
       "    <tr style=\"text-align: right;\">\n",
       "      <th></th>\n",
       "      <th>http://purl.org/linked-data/sdmx/2009/dimension#refArea</th>\n",
       "      <th>Reference Area</th>\n",
       "      <th>Access To Services</th>\n",
       "      <th>Education Skills And Training</th>\n",
       "      <th>Employment</th>\n",
       "      <th>Health</th>\n",
       "      <th>Housing</th>\n",
       "      <th>Income</th>\n",
       "      <th>SIMD</th>\n",
       "    </tr>\n",
       "  </thead>\n",
       "  <tbody>\n",
       "    <tr>\n",
       "      <td>0</td>\n",
       "      <td>http://statistics.gov.scot/id/statistical-geog...</td>\n",
       "      <td>Abbey Parks &amp; Brucefield North West</td>\n",
       "      <td>5232</td>\n",
       "      <td>5466</td>\n",
       "      <td>3370</td>\n",
       "      <td>2849</td>\n",
       "      <td>3038</td>\n",
       "      <td>3778</td>\n",
       "      <td>4145</td>\n",
       "    </tr>\n",
       "    <tr>\n",
       "      <td>1</td>\n",
       "      <td>http://statistics.gov.scot/id/statistical-geog...</td>\n",
       "      <td>Abbeyview Central</td>\n",
       "      <td>2424</td>\n",
       "      <td>1248</td>\n",
       "      <td>1842</td>\n",
       "      <td>2611</td>\n",
       "      <td>1597</td>\n",
       "      <td>1014</td>\n",
       "      <td>1448</td>\n",
       "    </tr>\n",
       "    <tr>\n",
       "      <td>2</td>\n",
       "      <td>http://statistics.gov.scot/id/statistical-geog...</td>\n",
       "      <td>Abbeyview East</td>\n",
       "      <td>1538</td>\n",
       "      <td>669</td>\n",
       "      <td>870</td>\n",
       "      <td>967</td>\n",
       "      <td>632</td>\n",
       "      <td>882</td>\n",
       "      <td>692</td>\n",
       "    </tr>\n",
       "    <tr>\n",
       "      <td>3</td>\n",
       "      <td>http://statistics.gov.scot/id/statistical-geog...</td>\n",
       "      <td>Abbeyview Linburn</td>\n",
       "      <td>1361</td>\n",
       "      <td>2815</td>\n",
       "      <td>3555</td>\n",
       "      <td>4254</td>\n",
       "      <td>3296</td>\n",
       "      <td>4872</td>\n",
       "      <td>3864</td>\n",
       "    </tr>\n",
       "    <tr>\n",
       "      <td>4</td>\n",
       "      <td>http://statistics.gov.scot/id/statistical-geog...</td>\n",
       "      <td>Abbeyview North</td>\n",
       "      <td>1927</td>\n",
       "      <td>417</td>\n",
       "      <td>649</td>\n",
       "      <td>1611</td>\n",
       "      <td>1193</td>\n",
       "      <td>643</td>\n",
       "      <td>617</td>\n",
       "    </tr>\n",
       "  </tbody>\n",
       "</table>\n",
       "</div>"
      ],
      "text/plain": [
       "  http://purl.org/linked-data/sdmx/2009/dimension#refArea  \\\n",
       "0  http://statistics.gov.scot/id/statistical-geog...        \n",
       "1  http://statistics.gov.scot/id/statistical-geog...        \n",
       "2  http://statistics.gov.scot/id/statistical-geog...        \n",
       "3  http://statistics.gov.scot/id/statistical-geog...        \n",
       "4  http://statistics.gov.scot/id/statistical-geog...        \n",
       "\n",
       "                        Reference Area  Access To Services  \\\n",
       "0  Abbey Parks & Brucefield North West                5232   \n",
       "1                    Abbeyview Central                2424   \n",
       "2                       Abbeyview East                1538   \n",
       "3                    Abbeyview Linburn                1361   \n",
       "4                      Abbeyview North                1927   \n",
       "\n",
       "   Education Skills And Training  Employment  Health  Housing  Income  SIMD  \n",
       "0                           5466        3370    2849     3038    3778  4145  \n",
       "1                           1248        1842    2611     1597    1014  1448  \n",
       "2                            669         870     967      632     882   692  \n",
       "3                           2815        3555    4254     3296    4872  3864  \n",
       "4                            417         649    1611     1193     643   617  "
      ]
     },
     "execution_count": 5,
     "metadata": {},
     "output_type": "execute_result"
    }
   ],
   "source": [
    "SIMD2014.head()"
   ]
  },
  {
   "cell_type": "code",
   "execution_count": 6,
   "metadata": {},
   "outputs": [
    {
     "name": "stdout",
     "output_type": "stream",
     "text": [
      "<class 'pandas.core.frame.DataFrame'>\n",
      "RangeIndex: 6505 entries, 0 to 6504\n",
      "Data columns (total 9 columns):\n",
      "http://purl.org/linked-data/sdmx/2009/dimension#refArea    6505 non-null object\n",
      "Reference Area                                             6505 non-null object\n",
      "Access To Services                                         6505 non-null int64\n",
      "Education Skills And Training                              6505 non-null int64\n",
      "Employment                                                 6505 non-null int64\n",
      "Health                                                     6505 non-null int64\n",
      "Housing                                                    6505 non-null int64\n",
      "Income                                                     6505 non-null int64\n",
      "SIMD                                                       6505 non-null int64\n",
      "dtypes: int64(7), object(2)\n",
      "memory usage: 457.5+ KB\n"
     ]
    }
   ],
   "source": [
    "SIMD2014.info()"
   ]
  },
  {
   "cell_type": "code",
   "execution_count": 7,
   "metadata": {},
   "outputs": [
    {
     "data": {
      "text/html": [
       "<div>\n",
       "<style scoped>\n",
       "    .dataframe tbody tr th:only-of-type {\n",
       "        vertical-align: middle;\n",
       "    }\n",
       "\n",
       "    .dataframe tbody tr th {\n",
       "        vertical-align: top;\n",
       "    }\n",
       "\n",
       "    .dataframe thead th {\n",
       "        text-align: right;\n",
       "    }\n",
       "</style>\n",
       "<table border=\"1\" class=\"dataframe\">\n",
       "  <thead>\n",
       "    <tr style=\"text-align: right;\">\n",
       "      <th></th>\n",
       "      <th>Access To Services</th>\n",
       "      <th>Education Skills And Training</th>\n",
       "      <th>Employment</th>\n",
       "      <th>Health</th>\n",
       "      <th>Housing</th>\n",
       "      <th>Income</th>\n",
       "      <th>SIMD</th>\n",
       "    </tr>\n",
       "  </thead>\n",
       "  <tbody>\n",
       "    <tr>\n",
       "      <td>count</td>\n",
       "      <td>6505.000000</td>\n",
       "      <td>6505.000000</td>\n",
       "      <td>6505.000000</td>\n",
       "      <td>6505.000000</td>\n",
       "      <td>6505.000000</td>\n",
       "      <td>6505.000000</td>\n",
       "      <td>6505.000000</td>\n",
       "    </tr>\n",
       "    <tr>\n",
       "      <td>mean</td>\n",
       "      <td>3253.000000</td>\n",
       "      <td>3253.000000</td>\n",
       "      <td>3253.089316</td>\n",
       "      <td>3253.000000</td>\n",
       "      <td>3253.028593</td>\n",
       "      <td>3253.045503</td>\n",
       "      <td>3253.000000</td>\n",
       "    </tr>\n",
       "    <tr>\n",
       "      <td>std</td>\n",
       "      <td>1877.976083</td>\n",
       "      <td>1877.976083</td>\n",
       "      <td>1877.998871</td>\n",
       "      <td>1877.976083</td>\n",
       "      <td>1877.983258</td>\n",
       "      <td>1877.990938</td>\n",
       "      <td>1877.976083</td>\n",
       "    </tr>\n",
       "    <tr>\n",
       "      <td>min</td>\n",
       "      <td>1.000000</td>\n",
       "      <td>1.000000</td>\n",
       "      <td>1.000000</td>\n",
       "      <td>1.000000</td>\n",
       "      <td>1.000000</td>\n",
       "      <td>1.000000</td>\n",
       "      <td>1.000000</td>\n",
       "    </tr>\n",
       "    <tr>\n",
       "      <td>25%</td>\n",
       "      <td>1627.000000</td>\n",
       "      <td>1627.000000</td>\n",
       "      <td>1627.000000</td>\n",
       "      <td>1627.000000</td>\n",
       "      <td>1627.000000</td>\n",
       "      <td>1627.000000</td>\n",
       "      <td>1627.000000</td>\n",
       "    </tr>\n",
       "    <tr>\n",
       "      <td>50%</td>\n",
       "      <td>3253.000000</td>\n",
       "      <td>3253.000000</td>\n",
       "      <td>3253.000000</td>\n",
       "      <td>3253.000000</td>\n",
       "      <td>3253.000000</td>\n",
       "      <td>3253.000000</td>\n",
       "      <td>3253.000000</td>\n",
       "    </tr>\n",
       "    <tr>\n",
       "      <td>75%</td>\n",
       "      <td>4879.000000</td>\n",
       "      <td>4879.000000</td>\n",
       "      <td>4879.000000</td>\n",
       "      <td>4879.000000</td>\n",
       "      <td>4879.000000</td>\n",
       "      <td>4879.000000</td>\n",
       "      <td>4879.000000</td>\n",
       "    </tr>\n",
       "    <tr>\n",
       "      <td>max</td>\n",
       "      <td>6505.000000</td>\n",
       "      <td>6505.000000</td>\n",
       "      <td>6505.000000</td>\n",
       "      <td>6505.000000</td>\n",
       "      <td>6505.000000</td>\n",
       "      <td>6504.000000</td>\n",
       "      <td>6505.000000</td>\n",
       "    </tr>\n",
       "  </tbody>\n",
       "</table>\n",
       "</div>"
      ],
      "text/plain": [
       "       Access To Services  Education Skills And Training   Employment  \\\n",
       "count         6505.000000                    6505.000000  6505.000000   \n",
       "mean          3253.000000                    3253.000000  3253.089316   \n",
       "std           1877.976083                    1877.976083  1877.998871   \n",
       "min              1.000000                       1.000000     1.000000   \n",
       "25%           1627.000000                    1627.000000  1627.000000   \n",
       "50%           3253.000000                    3253.000000  3253.000000   \n",
       "75%           4879.000000                    4879.000000  4879.000000   \n",
       "max           6505.000000                    6505.000000  6505.000000   \n",
       "\n",
       "            Health      Housing       Income         SIMD  \n",
       "count  6505.000000  6505.000000  6505.000000  6505.000000  \n",
       "mean   3253.000000  3253.028593  3253.045503  3253.000000  \n",
       "std    1877.976083  1877.983258  1877.990938  1877.976083  \n",
       "min       1.000000     1.000000     1.000000     1.000000  \n",
       "25%    1627.000000  1627.000000  1627.000000  1627.000000  \n",
       "50%    3253.000000  3253.000000  3253.000000  3253.000000  \n",
       "75%    4879.000000  4879.000000  4879.000000  4879.000000  \n",
       "max    6505.000000  6505.000000  6504.000000  6505.000000  "
      ]
     },
     "execution_count": 7,
     "metadata": {},
     "output_type": "execute_result"
    }
   ],
   "source": [
    "SIMD2014.describe()"
   ]
  },
  {
   "cell_type": "markdown",
   "metadata": {},
   "source": [
    "**Use pairplot to explore relationships across the entire data set"
   ]
  },
  {
   "cell_type": "code",
   "execution_count": null,
   "metadata": {},
   "outputs": [],
   "source": [
    "sns.pairplot(SIMD2014, hue='Income')"
   ]
  },
  {
   "cell_type": "markdown",
   "metadata": {},
   "source": [
    "**Use seaborn to create a scatterplot to compare the SIMD and Income columns"
   ]
  },
  {
   "cell_type": "code",
   "execution_count": 11,
   "metadata": {},
   "outputs": [
    {
     "data": {
      "text/plain": [
       "<matplotlib.axes._subplots.AxesSubplot at 0x2437ae93388>"
      ]
     },
     "execution_count": 11,
     "metadata": {},
     "output_type": "execute_result"
    },
    {
     "data": {
      "image/png": "[encoded data removed]",
      "text/plain": [
       "<Figure size 432x288 with 1 Axes>"
      ]
     },
     "metadata": {
      "needs_background": "light"
     },
     "output_type": "display_data"
    }
   ],
   "source": [
    "sns.distplot(SIMD2014['Income'])"
   ]
  },
  {
   "cell_type": "markdown",
   "metadata": {},
   "source": [
    "**Use seaborn to create a jointplot to compare the SIMD and Employment columns"
   ]
  },
  {
   "cell_type": "code",
   "execution_count": 10,
   "metadata": {},
   "outputs": [
    {
     "data": {
      "text/plain": [
       "<seaborn.axisgrid.JointGrid at 0x1fe7fc77cc8>"
      ]
     },
     "execution_count": 10,
     "metadata": {},
     "output_type": "execute_result"
    },
    {
     "data": {
      "image/png": "[encoded data removed]",
      "text/plain": [
       "<Figure size 432x432 with 3 Axes>"
      ]
     },
     "metadata": {
      "needs_background": "light"
     },
     "output_type": "display_data"
    }
   ],
   "source": [
    "sns.jointplot(data=SIMD2014, x='SIMD', y='Employment',kind='hex')"
   ]
  },
  {
   "cell_type": "markdown",
   "metadata": {},
   "source": [
    "**Use seaborn to create a heatmap to compare all dataset columns"
   ]
  },
  {
   "cell_type": "code",
   "execution_count": 15,
   "metadata": {},
   "outputs": [
    {
     "data": {
      "text/plain": [
       "<matplotlib.axes._subplots.AxesSubplot at 0x2190efd72c8>"
      ]
     },
     "execution_count": 15,
     "metadata": {},
     "output_type": "execute_result"
    },
    {
     "data": {
      "image/png": "[encoded data removed]",
      "text/plain": [
       "<Figure size 432x288 with 2 Axes>"
      ]
     },
     "metadata": {
      "needs_background": "light"
     },
     "output_type": "display_data"
    }
   ],
   "source": [
    "sns.heatmap(SIMD2014.corr(),annot=True)"
   ]
  },
  {
   "cell_type": "markdown",
   "metadata": {},
   "source": [
    "**Create a linear model plot SIMD vs. Income"
   ]
  },
  {
   "cell_type": "code",
   "execution_count": 17,
   "metadata": {},
   "outputs": [
    {
     "data": {
      "text/plain": [
       "<seaborn.axisgrid.FacetGrid at 0x2190f1f0288>"
      ]
     },
     "execution_count": 17,
     "metadata": {},
     "output_type": "execute_result"
    },
    {
     "data": {
      "image/png": "[encoded data removed]",
      "text/plain": [
       "<Figure size 360x360 with 1 Axes>"
      ]
     },
     "metadata": {
      "needs_background": "light"
     },
     "output_type": "display_data"
    }
   ],
   "source": [
    "sns.lmplot(x='Income',y='SIMD',data=SIMD2014)"
   ]
  },
  {
   "cell_type": "markdown",
   "metadata": {},
   "source": [
    "**Get column information for dataset"
   ]
  },
  {
   "cell_type": "code",
   "execution_count": 19,
   "metadata": {},
   "outputs": [
    {
     "data": {
      "text/plain": [
       "Index(['http://purl.org/linked-data/sdmx/2009/dimension#refArea',\n",
       "       'Reference Area', 'Access To Services', 'Education Skills And Training',\n",
       "       'Employment', 'Health', 'Housing', 'Income', 'SIMD'],\n",
       "      dtype='object')"
      ]
     },
     "execution_count": 19,
     "metadata": {},
     "output_type": "execute_result"
    }
   ],
   "source": [
    "SIMD2014.columns"
   ]
  },
  {
   "cell_type": "markdown",
   "metadata": {},
   "source": [
    "**Set X variable equal to all SIMD sub categories"
   ]
  },
  {
   "cell_type": "code",
   "execution_count": 20,
   "metadata": {},
   "outputs": [],
   "source": [
    "X = SIMD2014[['Access To Services', 'Education Skills And Training',\n",
    "       'Employment', 'Health', 'Housing', 'Income']]"
   ]
  },
  {
   "cell_type": "markdown",
   "metadata": {},
   "source": [
    "**Set Y variable equal to SIMD value"
   ]
  },
  {
   "cell_type": "code",
   "execution_count": 21,
   "metadata": {},
   "outputs": [],
   "source": [
    "Y = SIMD2014['SIMD']"
   ]
  },
  {
   "cell_type": "markdown",
   "metadata": {},
   "source": [
    "**Use train_test_split from sklearn to split the data into training and testing sets. Set test_size=0.3 and random_state=101"
   ]
  },
  {
   "cell_type": "code",
   "execution_count": 22,
   "metadata": {},
   "outputs": [],
   "source": [
    "from sklearn.model_selection import train_test_split"
   ]
  },
  {
   "cell_type": "code",
   "execution_count": 23,
   "metadata": {},
   "outputs": [],
   "source": [
    "X_train, X_test, y_train, y_test = train_test_split(X, Y, test_size=0.3, random_state=101)"
   ]
  },
  {
   "cell_type": "markdown",
   "metadata": {},
   "source": [
    "**Import LinearRegression from sklearn.linear_model and create linear regression instance called lm"
   ]
  },
  {
   "cell_type": "code",
   "execution_count": 24,
   "metadata": {},
   "outputs": [],
   "source": [
    "from sklearn.linear_model import LinearRegression"
   ]
  },
  {
   "cell_type": "code",
   "execution_count": 25,
   "metadata": {},
   "outputs": [],
   "source": [
    "lm = LinearRegression()"
   ]
  },
  {
   "cell_type": "markdown",
   "metadata": {},
   "source": [
    "**Train lm on the training data created previously"
   ]
  },
  {
   "cell_type": "code",
   "execution_count": 26,
   "metadata": {},
   "outputs": [
    {
     "data": {
      "text/plain": [
       "LinearRegression(copy_X=True, fit_intercept=True, n_jobs=None, normalize=False)"
      ]
     },
     "execution_count": 26,
     "metadata": {},
     "output_type": "execute_result"
    }
   ],
   "source": [
    "lm.fit(X_train,y_train)"
   ]
  },
  {
   "cell_type": "markdown",
   "metadata": {},
   "source": [
    "**Print intercept and coefficients of the model"
   ]
  },
  {
   "cell_type": "code",
   "execution_count": 27,
   "metadata": {},
   "outputs": [
    {
     "name": "stdout",
     "output_type": "stream",
     "text": [
      "-841.2950685093551\n"
     ]
    }
   ],
   "source": [
    "print(lm.intercept_)"
   ]
  },
  {
   "cell_type": "code",
   "execution_count": 28,
   "metadata": {},
   "outputs": [
    {
     "data": {
      "text/plain": [
       "array([0.1525401 , 0.14089881, 0.33373228, 0.14983915, 0.1151696 ,\n",
       "       0.36576652])"
      ]
     },
     "execution_count": 28,
     "metadata": {},
     "output_type": "execute_result"
    }
   ],
   "source": [
    "lm.coef_"
   ]
  },
  {
   "cell_type": "markdown",
   "metadata": {},
   "source": [
    "**Create dataframe for coef results for evaluation"
   ]
  },
  {
   "cell_type": "code",
   "execution_count": 29,
   "metadata": {},
   "outputs": [
    {
     "data": {
      "text/plain": [
       "Index(['Access To Services', 'Education Skills And Training', 'Employment',\n",
       "       'Health', 'Housing', 'Income'],\n",
       "      dtype='object')"
      ]
     },
     "execution_count": 29,
     "metadata": {},
     "output_type": "execute_result"
    }
   ],
   "source": [
    "X_train.columns"
   ]
  },
  {
   "cell_type": "code",
   "execution_count": 30,
   "metadata": {},
   "outputs": [],
   "source": [
    "cdf = pd.DataFrame(lm.coef_,X.columns,columns=['Coeff'])"
   ]
  },
  {
   "cell_type": "code",
   "execution_count": 31,
   "metadata": {},
   "outputs": [
    {
     "data": {
      "text/html": [
       "<div>\n",
       "<style scoped>\n",
       "    .dataframe tbody tr th:only-of-type {\n",
       "        vertical-align: middle;\n",
       "    }\n",
       "\n",
       "    .dataframe tbody tr th {\n",
       "        vertical-align: top;\n",
       "    }\n",
       "\n",
       "    .dataframe thead th {\n",
       "        text-align: right;\n",
       "    }\n",
       "</style>\n",
       "<table border=\"1\" class=\"dataframe\">\n",
       "  <thead>\n",
       "    <tr style=\"text-align: right;\">\n",
       "      <th></th>\n",
       "      <th>Coeff</th>\n",
       "    </tr>\n",
       "  </thead>\n",
       "  <tbody>\n",
       "    <tr>\n",
       "      <td>Access To Services</td>\n",
       "      <td>0.152540</td>\n",
       "    </tr>\n",
       "    <tr>\n",
       "      <td>Education Skills And Training</td>\n",
       "      <td>0.140899</td>\n",
       "    </tr>\n",
       "    <tr>\n",
       "      <td>Employment</td>\n",
       "      <td>0.333732</td>\n",
       "    </tr>\n",
       "    <tr>\n",
       "      <td>Health</td>\n",
       "      <td>0.149839</td>\n",
       "    </tr>\n",
       "    <tr>\n",
       "      <td>Housing</td>\n",
       "      <td>0.115170</td>\n",
       "    </tr>\n",
       "    <tr>\n",
       "      <td>Income</td>\n",
       "      <td>0.365767</td>\n",
       "    </tr>\n",
       "  </tbody>\n",
       "</table>\n",
       "</div>"
      ],
      "text/plain": [
       "                                  Coeff\n",
       "Access To Services             0.152540\n",
       "Education Skills And Training  0.140899\n",
       "Employment                     0.333732\n",
       "Health                         0.149839\n",
       "Housing                        0.115170\n",
       "Income                         0.365767"
      ]
     },
     "execution_count": 31,
     "metadata": {},
     "output_type": "execute_result"
    }
   ],
   "source": [
    "cdf"
   ]
  },
  {
   "cell_type": "markdown",
   "metadata": {},
   "source": [
    "Remember and do reading on coefficients and add to report."
   ]
  },
  {
   "cell_type": "markdown",
   "metadata": {},
   "source": [
    "**Use lm.predict() to predict off the X_test set of the data."
   ]
  },
  {
   "cell_type": "code",
   "execution_count": 32,
   "metadata": {},
   "outputs": [],
   "source": [
    "predictions = lm.predict(X_test)"
   ]
  },
  {
   "cell_type": "code",
   "execution_count": 33,
   "metadata": {},
   "outputs": [
    {
     "data": {
      "text/plain": [
       "array([ 516.2309567 , 1594.82959746, 5333.35675437, ..., 2021.67718016,\n",
       "       6073.61136821, 3510.0837294 ])"
      ]
     },
     "execution_count": 33,
     "metadata": {},
     "output_type": "execute_result"
    }
   ],
   "source": [
    "predictions"
   ]
  },
  {
   "cell_type": "markdown",
   "metadata": {},
   "source": [
    "**Create a scatterplot of the real test values versus the predicted values"
   ]
  },
  {
   "cell_type": "code",
   "execution_count": 34,
   "metadata": {},
   "outputs": [
    {
     "data": {
      "text/plain": [
       "<matplotlib.collections.PathCollection at 0x21910bb2f48>"
      ]
     },
     "execution_count": 34,
     "metadata": {},
     "output_type": "execute_result"
    },
    {
     "data": {
      "image/png": "[encoded data removed]",
      "text/plain": [
       "<Figure size 432x288 with 1 Axes>"
      ]
     },
     "metadata": {
      "needs_background": "light"
     },
     "output_type": "display_data"
    }
   ],
   "source": [
    "plt.scatter(y_test,predictions)"
   ]
  },
  {
   "cell_type": "markdown",
   "metadata": {},
   "source": [
    "**Check residuals (difference between test and actuals) if model is normally distributed then model a good fit"
   ]
  },
  {
   "cell_type": "code",
   "execution_count": 35,
   "metadata": {},
   "outputs": [
    {
     "data": {
      "text/plain": [
       "<matplotlib.axes._subplots.AxesSubplot at 0x21910bf3448>"
      ]
     },
     "execution_count": 35,
     "metadata": {},
     "output_type": "execute_result"
    },
    {
     "data": {
      "image/png": "[encoded data removed]",
      "text/plain": [
       "<Figure size 432x288 with 1 Axes>"
      ]
     },
     "metadata": {
      "needs_background": "light"
     },
     "output_type": "display_data"
    }
   ],
   "source": [
    "sns.distplot((y_test-predictions))"
   ]
  },
  {
   "cell_type": "markdown",
   "metadata": {},
   "source": [
    "**Calculate the Mean Absolute Error, Mean Squared Error, and the Root Mean Squared Error"
   ]
  },
  {
   "cell_type": "code",
   "execution_count": 36,
   "metadata": {},
   "outputs": [],
   "source": [
    "from sklearn import metrics"
   ]
  },
  {
   "cell_type": "code",
   "execution_count": 37,
   "metadata": {},
   "outputs": [
    {
     "name": "stdout",
     "output_type": "stream",
     "text": [
      "MAE 163.65852242298027\n",
      "MSE 43149.77552730686\n",
      "RMSE 207.72524046756297\n",
      "Explained 0.9877088386956315\n"
     ]
    }
   ],
   "source": [
    "print('MAE', metrics.mean_absolute_error(y_test,predictions))\n",
    "print('MSE', metrics.mean_squared_error(y_test,predictions))\n",
    "print('RMSE', np.sqrt(metrics.mean_squared_error(y_test,predictions)))\n",
    "print('Explained', metrics.explained_variance_score(y_test,predictions))"
   ]
  },
  {
   "cell_type": "code",
   "execution_count": null,
   "metadata": {},
   "outputs": [],
   "source": []
  }
 ],
 "metadata": {
  "kernelspec": {
   "display_name": "Python 3",
   "language": "python",
   "name": "python3"
  },
  "language_info": {
   "codemirror_mode": {
    "name": "ipython",
    "version": 3
   },
   "file_extension": ".py",
   "mimetype": "text/x-python",
   "name": "python",
   "nbconvert_exporter": "python",
   "pygments_lexer": "ipython3",
   "version": "3.7.4"
  }
 },
 "nbformat": 4,
 "nbformat_minor": 2
}
